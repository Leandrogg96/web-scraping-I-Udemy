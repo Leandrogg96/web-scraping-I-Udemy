{
 "cells": [
  {
   "cell_type": "code",
   "execution_count": 5,
   "metadata": {},
   "outputs": [
    {
     "name": "stdout",
     "output_type": "stream",
     "text": [
      "Número de personas: 3\n",
      "\n",
      "Nombre: Alvaro Chirou\n",
      "Pais: Argentina, Neuquen\n",
      "Telefono: 11\n",
      "\n",
      "Nombre: Valentina Chirou\n",
      "Pais: Argentina, Neuquen\n",
      "Telefono: 22\n",
      "\n",
      "Nombre: Estudiantes Udemy\n",
      "Pais: Todo el mundo\n",
      "Telefono: 33\n"
     ]
    }
   ],
   "source": [
    "# Importamos la libreria\n",
    "import json\n",
    "# Variable que almacena el archivo a abrir\n",
    "abrir = open(\"clase.json\", \"r\")\n",
    "# Variable que almacena lo leido de la variable anterior\n",
    "leer = json.loads(abrir.read())\n",
    "\n",
    "print('Número de personas:', len(leer))\n",
    "\n",
    "for x in leer:\n",
    "    print('\\r')\n",
    "    print('Nombre:', x['nombre'])\n",
    "    print('Pais:', x['pais'])\n",
    "    print('Telefono:', x['telefono'])"
   ]
  },
  {
   "cell_type": "code",
   "execution_count": null,
   "metadata": {},
   "outputs": [],
   "source": []
  }
 ],
 "metadata": {
  "kernelspec": {
   "display_name": "Python 3 (ipykernel)",
   "language": "python",
   "name": "python3"
  },
  "language_info": {
   "codemirror_mode": {
    "name": "ipython",
    "version": 3
   },
   "file_extension": ".py",
   "mimetype": "text/x-python",
   "name": "python",
   "nbconvert_exporter": "python",
   "pygments_lexer": "ipython3",
   "version": "3.12.4"
  }
 },
 "nbformat": 4,
 "nbformat_minor": 4
}
