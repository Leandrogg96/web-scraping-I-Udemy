{
 "cells": [
  {
   "cell_type": "code",
   "execution_count": 6,
   "metadata": {},
   "outputs": [
    {
     "name": "stdout",
     "output_type": "stream",
     "text": [
      "Cantidad de Registros: 5\n",
      "\n",
      "Nombre: Belgian Waffles\n",
      "Precio: $5.95\n",
      "Descripcón: Two of our famous Belgian Waffles with plenty of real maple syrup\n",
      "Calorias: 650\n",
      "\n",
      "Nombre: Strawberry Belgian Waffles\n",
      "Precio: $7.95\n",
      "Descripcón: Light Belgian waffles covered with strawberries and whipped cream\n",
      "Calorias: 900\n",
      "\n",
      "Nombre: Berry-Berry Belgian Waffles\n",
      "Precio: $8.95\n",
      "Descripcón: Light Belgian waffles covered with an assortment of fresh berries and whipped cream\n",
      "Calorias: 900\n",
      "\n",
      "Nombre: French Toast\n",
      "Precio: $4.50\n",
      "Descripcón: Thick slices made from our homemade sourdough bread\n",
      "Calorias: 600\n",
      "\n",
      "Nombre: Homestyle Breakfast\n",
      "Precio: $6.95\n",
      "Descripcón: Two eggs, bacon or sausage, toast, and our ever-popular hash browns\n",
      "Calorias: 950\n"
     ]
    }
   ],
   "source": [
    "# Importamos librerias\n",
    "import urllib.request\n",
    "import xml.etree.ElementTree as xml\n",
    "\n",
    "# Variable que almacena la pagina\n",
    "pagina = 'https://www.w3schools.com/xml/simple.xml'\n",
    "\n",
    "# Variable que lee la variable que almacena la pagina  \n",
    "info = urllib.request.urlopen(pagina).read()\n",
    "# Variable que nos permite leer el xml\n",
    "x = xml.fromstring(info.decode())\n",
    "\n",
    "# Variable que almacena el elemento de busqueda\n",
    "s = x.findall('food')\n",
    "print('Cantidad de Registros:', len(s))\n",
    "\n",
    "for y in s:\n",
    "    print('\\r')\n",
    "    print('Nombre:', y.find('name').text)\n",
    "    print('Precio:', y.find('price').text)\n",
    "    print('Descripcón:', y.find('description').text)\n",
    "    print('Calorias:', y.find('calories').text)"
   ]
  },
  {
   "cell_type": "code",
   "execution_count": null,
   "metadata": {},
   "outputs": [],
   "source": []
  }
 ],
 "metadata": {
  "kernelspec": {
   "display_name": "Python 3 (ipykernel)",
   "language": "python",
   "name": "python3"
  },
  "language_info": {
   "codemirror_mode": {
    "name": "ipython",
    "version": 3
   },
   "file_extension": ".py",
   "mimetype": "text/x-python",
   "name": "python",
   "nbconvert_exporter": "python",
   "pygments_lexer": "ipython3",
   "version": "3.12.4"
  }
 },
 "nbformat": 4,
 "nbformat_minor": 4
}
