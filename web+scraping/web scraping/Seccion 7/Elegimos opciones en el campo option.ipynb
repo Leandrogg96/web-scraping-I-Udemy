{
 "cells": [
  {
   "cell_type": "code",
   "execution_count": 33,
   "metadata": {},
   "outputs": [
    {
     "name": "stdout",
     "output_type": "stream",
     "text": [
      "Month Option - Value: 0, Text: Enero\n",
      "Month Option - Value: 1, Text: Febrero\n",
      "Month Option - Value: 2, Text: Marzo\n",
      "Month Option - Value: 3, Text: Abril\n",
      "Month Option - Value: 4, Text: Mayo\n",
      "Month Option - Value: 5, Text: Junio\n",
      "Month Option - Value: 6, Text: Julio\n",
      "Month Option - Value: 7, Text: Agosto\n",
      "Month Option - Value: 8, Text: Septiembre\n",
      "Month Option - Value: 9, Text: Octubre\n",
      "Month Option - Value: 10, Text: Noviembre\n",
      "Month Option - Value: 11, Text: Diciembre\n",
      "--------------------------------------------------------------------------------------\n",
      "Year Option - Value: 0, Text: 2005\n",
      "Year Option - Value: 1, Text: 2006\n",
      "Year Option - Value: 2, Text: 2007\n",
      "Year Option - Value: 3, Text: 2008\n",
      "Year Option - Value: 4, Text: 2009\n",
      "Year Option - Value: 5, Text: 2010\n",
      "Year Option - Value: 6, Text: 2011\n",
      "Year Option - Value: 7, Text: 2012\n",
      "Year Option - Value: 8, Text: 2013\n",
      "Year Option - Value: 9, Text: 2014\n",
      "Year Option - Value: 10, Text: 2015\n",
      "Year Option - Value: 11, Text: 2016\n",
      "Year Option - Value: 12, Text: 2017\n",
      "Year Option - Value: 13, Text: 2018\n",
      "Year Option - Value: 14, Text: 2019\n",
      "Year Option - Value: 15, Text: 2020\n",
      "Year Option - Value: 16, Text: 2021\n",
      "Year Option - Value: 17, Text: 2022\n",
      "Year Option - Value: 18, Text: 2023\n",
      "Year Option - Value: 19, Text: 2024\n"
     ]
    }
   ],
   "source": [
    "from selenium.webdriver.common.by import By\n",
    "from selenium.webdriver.support.ui import WebDriverWait\n",
    "from selenium.webdriver.support import expected_conditions as EC\n",
    "from selenium.webdriver.support.ui import Select\n",
    "from selenium import webdriver\n",
    "from selenium.webdriver.chrome.service import Service\n",
    "import time\n",
    "\n",
    "# Configuración del controlador de Chrome\n",
    "service = Service(\"chromedriver.exe\")\n",
    "chrome_driver = webdriver.Chrome(service=service)\n",
    "\n",
    "# Navegar al sitio web\n",
    "chrome_driver.get('http://eportal.miteco.gob.es/BoleHWeb/')\n",
    "\n",
    "# Espera explícita para asegurarte de que el menú de año esté disponible\n",
    "wait = WebDriverWait(chrome_driver, 10)\n",
    "select_year_element = wait.until(EC.presence_of_element_located((By.ID, \"year\")))\n",
    "select_month_element = wait.until(EC.presence_of_element_located((By.ID, \"month\")))\n",
    "\n",
    "# Seleccionar el año y el mes\n",
    "select_year = Select(select_year_element)\n",
    "select_month = Select(select_month_element)\n",
    "\n",
    "# Verificamos valores a seleccionar\n",
    "for option in select_month.options:\n",
    "    print(f\"Month Option - Value: {option.get_attribute('value')}, Text: {option.text}\")\n",
    "print('--------------------------------------------------------------------------------------')\n",
    "for option in select_year.options:\n",
    "    print(f\"Year Option - Value: {option.get_attribute('value')}, Text: {option.text}\")\n",
    "\n",
    "# Cambiar a 2006 y junio\n",
    "select_year.select_by_value(\"1\")\n",
    "select_month.select_by_value(\"5\")\n",
    "\n",
    "# Esperar un momento para verificar la acción\n",
    "time.sleep(2)\n"
   ]
  },
  {
   "cell_type": "code",
   "execution_count": null,
   "metadata": {},
   "outputs": [],
   "source": []
  }
 ],
 "metadata": {
  "kernelspec": {
   "display_name": "Python 3 (ipykernel)",
   "language": "python",
   "name": "python3"
  },
  "language_info": {
   "codemirror_mode": {
    "name": "ipython",
    "version": 3
   },
   "file_extension": ".py",
   "mimetype": "text/x-python",
   "name": "python",
   "nbconvert_exporter": "python",
   "pygments_lexer": "ipython3",
   "version": "3.12.4"
  }
 },
 "nbformat": 4,
 "nbformat_minor": 4
}
