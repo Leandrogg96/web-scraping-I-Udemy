{
 "cells": [
  {
   "cell_type": "code",
   "execution_count": 16,
   "metadata": {},
   "outputs": [],
   "source": [
    "from selenium.webdriver.common.keys import Keys\n",
    "from selenium import webdriver\n",
    "import time\n",
    "\n",
    "chrome_driver = webdriver.Chrome(\"chromedriver.exe\")\n",
    "\n",
    "chrome_driver.get('http://eportal.miteco.gob.es/BoleHWeb/')\n",
    "\n",
    "\n",
    "option = 'select[name=\"year\"] option[value=\"12\"]'\n",
    "\n",
    "accion = chrome_driver.find_element_by_css_selector(option)\n",
    "\n",
    "click = accion.click()\n",
    "\n",
    "time.sleep(2)\n",
    "\n",
    "option2 = 'select[name=\"month\"] option[value=\"5\"]'\n",
    "\n",
    "accion2 = chrome_driver.find_element_by_css_selector(option2)\n",
    "\n",
    "click2 = accion2.click()"
   ]
  },
  {
   "cell_type": "code",
   "execution_count": null,
   "metadata": {},
   "outputs": [],
   "source": []
  }
 ],
 "metadata": {
  "kernelspec": {
   "display_name": "Python 3",
   "language": "python",
   "name": "python3"
  },
  "language_info": {
   "codemirror_mode": {
    "name": "ipython",
    "version": 3
   },
   "file_extension": ".py",
   "mimetype": "text/x-python",
   "name": "python",
   "nbconvert_exporter": "python",
   "pygments_lexer": "ipython3",
   "version": "3.7.3"
  }
 },
 "nbformat": 4,
 "nbformat_minor": 2
}
