{
 "cells": [
  {
   "cell_type": "code",
   "execution_count": 1,
   "metadata": {},
   "outputs": [
    {
     "name": "stdout",
     "output_type": "stream",
     "text": [
      "HTTP/1.1 400 Bad Request\n",
      "Date: Sun, 24 Nov 2024 00:39:36 GMT\n",
      "Content-Type: text/html\n",
      "Content-Length: 155\n",
      "Connection: close\n",
      "Server: cloudflare\n",
      "CF-RAY: 8e7557c3280c1eb7-EZE\n",
      "\n",
      "<html>\n",
      "<head><title>400 Bad Request</title></head>\n",
      "<body>\n",
      "<center><h1>400 Bad Request</h1></center>\n",
      "<hr><center>cloudflare</center>\n",
      "</body>\n",
      "</html>\n"
     ]
    }
   ],
   "source": [
    "# Libreria \"Socket\": Nos permite hacer conexiones en red a traves de un conector (socket)\n",
    "import socket\n",
    "\n",
    "# Variable de conexion\n",
    "Server = socket.socket(socket.AF_INET, socket.SOCK_STREAM)\n",
    "# Realizo la conexion\n",
    "Server.connect(('www.w3.org', 80))\n",
    "# Realizo el pedido\n",
    "Read = 'GET https://www.w3.org/Summary.txt HTTP/1.0\\r\\n\\r\\n'.encode()\n",
    "Server.send(Read)\n",
    "\n",
    "while True:\n",
    "    # Almacenamos informacion\n",
    "    info = Server.recv(512)\n",
    "    if len(info) < 1:\n",
    "        break\n",
    "    print(info.decode(),end='')\n",
    "\n",
    "# Cerrar conexion del socket    \n",
    "Server.close()"
   ]
  },
  {
   "cell_type": "code",
   "execution_count": null,
   "metadata": {},
   "outputs": [],
   "source": []
  }
 ],
 "metadata": {
  "kernelspec": {
   "display_name": "Python 3 (ipykernel)",
   "language": "python",
   "name": "python3"
  },
  "language_info": {
   "codemirror_mode": {
    "name": "ipython",
    "version": 3
   },
   "file_extension": ".py",
   "mimetype": "text/x-python",
   "name": "python",
   "nbconvert_exporter": "python",
   "pygments_lexer": "ipython3",
   "version": "3.12.4"
  }
 },
 "nbformat": 4,
 "nbformat_minor": 4
}
