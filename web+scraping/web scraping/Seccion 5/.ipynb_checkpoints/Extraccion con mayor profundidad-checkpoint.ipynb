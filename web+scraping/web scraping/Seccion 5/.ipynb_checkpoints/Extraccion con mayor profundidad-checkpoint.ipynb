{
 "cells": [
  {
   "cell_type": "code",
   "execution_count": 6,
   "metadata": {},
   "outputs": [
    {
     "name": "stdout",
     "output_type": "stream",
     "text": [
      "Enlaces en la página principal: \r\n",
      "\n",
      "<img alt=\"Lmneuquen.com | LMC\" height=\"35\" src=\"https://media.lmneuquen.com/adjuntos/195/imagenes/001/719/0001719129.png\" text=\"Lmneuquen.com | LMC\" xmlns:ll=\"no\"/> https://www.lmcipolletti.com\n",
      "<img alt=\"Lmneuquen.com | Buscomotores\" height=\"35\" src=\"https://media.lmneuquen.com/adjuntos/195/imagenes/001/719/0001719156.png\" text=\"Lmneuquen.com | Buscomotores\" xmlns:ll=\"no\"/> http://www.buscomotores.com/\n",
      "<img alt=\"Lmneuquen.com | Viaprop\" height=\"35\" src=\"https://media.lmneuquen.com/adjuntos/195/imagenes/001/719/0001719161.png\" text=\"Lmneuquen.com | Viaprop\" xmlns:ll=\"no\"/> http://www.viaprop.com/\n",
      "<img alt=\"Lmneuquen.com | LU5AM600\" height=\"35\" src=\"https://media.lmneuquen.com/adjuntos/195/imagenes/001/719/0001719164.png\" text=\"Lmneuquen.com | LU5AM600\" xmlns:ll=\"no\"/>  http://www.lu5am.com \n",
      "\n",
      " https://www.facebook.com/lmneuquen\n",
      "\n",
      " https://twitter.com/lmneuquen\n",
      "\n",
      " https://plus.google.com/+LMNeuquenArg\n",
      "<img alt=\"Lmneuquen.com\" src=\"https://www.lmneuquen.com/css-custom/lmneuquen/images/logo-retina-195.png\" title=\"Lmneuquen.com\" xmlns:ll=\"no\"/> https://www.lmneuquen.com\n",
      "\n",
      " /\n",
      "Home https://www.lmneuquen.com\n",
      "Neuquén https://www.lmneuquen.com/contenidos/neuquen.html\n",
      "Policiales https://www.lmneuquen.com/contenidos/policiales.html\n",
      "País https://www.lmneuquen.com/contenidos/pais.html\n",
      "Deportes https://www.lmneuquen.com/contenidos/deportes.html\n",
      "Espectáculos https://www.lmneuquen.com/contenidos/espectaculos.html\n",
      "+E https://mase.lmneuquen.com/\n",
      "Secciones javascript:void(0)\n",
      "Mundo https://www.lmneuquen.com/contenidos/mundo.html\n",
      "Ciencia y Vida https://www.lmneuquen.com/contenidos/ciencia-vida.html\n",
      "Mujer de hoy https://www.lmneuquen.com/contenidos/mujer-de-hoy.html\n",
      "Mundo mascota https://www.lmneuquen.com/contenidos/mundo-mascota.html\n",
      "Opiniones https://www.lmneuquen.com/contenidos/opiniones.html\n",
      "Suplementos javascript:void(0)\n",
      "Dale https://www.lmneuquen.com/contenidos/suplemento-dale.html\n",
      "Al Fin Viernes https://www.lmneuquen.com/contenidos/suplemento-al-fin-viernes.html\n",
      "Aniversarios https://www.lmneuquen.com/contenidos/suplemento-aniversarios.html\n",
      "Especiales https://www.lmneuquen.com/contenidos/suplementos-especiales.html\n",
      "Servicios javascript:void(0)\n",
      "Necrológicas https://www.lmneuquen.com/contenidos/necrologicas.html\n",
      "Horóscopo https://www.lmneuquen.com/contenidos/horoscopo.html\n",
      "Farmacias https://www.lmneuquen.com/contenidos/farmacias.html\n",
      "Quiniela http://agencias.nqn.webloteria.com.ar/\n",
      "Teléfonos útiles https://www.lmneuquen.com/contenidos/telefonos-utiles.html\n",
      "Contacto https://www.lmneuquen.com/contenidos/contacto.html\n",
      "Home https://www.lmneuquen.com\n",
      "Neuquén https://www.lmneuquen.com/contenidos/neuquen.html\n",
      "Policiales https://www.lmneuquen.com/contenidos/policiales.html\n",
      "País https://www.lmneuquen.com/contenidos/pais.html\n",
      "Deportes https://www.lmneuquen.com/contenidos/deportes.html\n",
      "Espectáculos https://www.lmneuquen.com/contenidos/espectaculos.html\n",
      "+E https://mase.lmneuquen.com/\n",
      "Secciones javascript:void(0)\n",
      "Suplementos javascript:void(0)\n",
      "Servicios javascript:void(0)\n"
     ]
    },
    {
     "ename": "IndexError",
     "evalue": "list index out of range",
     "output_type": "error",
     "traceback": [
      "\u001b[1;31m---------------------------------------------------------------------------\u001b[0m",
      "\u001b[1;31mIndexError\u001b[0m                                Traceback (most recent call last)",
      "\u001b[1;32m<ipython-input-6-7ae775c067ae>\u001b[0m in \u001b[0;36m<module>\u001b[1;34m\u001b[0m\n\u001b[0;32m      9\u001b[0m \u001b[0mprint\u001b[0m\u001b[1;33m(\u001b[0m\u001b[1;34m'Enlaces en la página principal: \\r\\n'\u001b[0m\u001b[1;33m)\u001b[0m\u001b[1;33m\u001b[0m\u001b[1;33m\u001b[0m\u001b[0m\n\u001b[0;32m     10\u001b[0m \u001b[1;32mfor\u001b[0m \u001b[0mx\u001b[0m \u001b[1;32min\u001b[0m \u001b[0metiqueta\u001b[0m\u001b[1;33m:\u001b[0m\u001b[1;33m\u001b[0m\u001b[1;33m\u001b[0m\u001b[0m\n\u001b[1;32m---> 11\u001b[1;33m     \u001b[0mprint\u001b[0m\u001b[1;33m(\u001b[0m\u001b[0mx\u001b[0m\u001b[1;33m.\u001b[0m\u001b[0mcontents\u001b[0m\u001b[1;33m[\u001b[0m\u001b[1;36m0\u001b[0m\u001b[1;33m]\u001b[0m\u001b[1;33m,\u001b[0m\u001b[0mx\u001b[0m\u001b[1;33m.\u001b[0m\u001b[0mget\u001b[0m\u001b[1;33m(\u001b[0m\u001b[1;34m'href'\u001b[0m\u001b[1;33m)\u001b[0m\u001b[1;33m)\u001b[0m\u001b[1;33m\u001b[0m\u001b[1;33m\u001b[0m\u001b[0m\n\u001b[0m\u001b[0;32m     12\u001b[0m \u001b[1;33m\u001b[0m\u001b[0m\n\u001b[0;32m     13\u001b[0m \u001b[0mprint\u001b[0m\u001b[1;33m(\u001b[0m\u001b[1;34m'\\r\\n Enlaces en las páginas secundarias: \\r\\n'\u001b[0m\u001b[1;33m)\u001b[0m\u001b[1;33m\u001b[0m\u001b[1;33m\u001b[0m\u001b[0m\n",
      "\u001b[1;31mIndexError\u001b[0m: list index out of range"
     ]
    }
   ],
   "source": [
    "import urllib\n",
    "from bs4 import BeautifulSoup\n",
    "\n",
    "direccion = 'http://www-math.mit.edu/~gs/'\n",
    "codigo = urllib.request.urlopen(direccion)\n",
    "bea = BeautifulSoup(codigo)\n",
    "\n",
    "etiqueta = bea('a')\n",
    "print('Enlaces en la página principal: \\r\\n')\n",
    "for x in etiqueta:\n",
    "    print(x.contents[0],x.get('href'))\n",
    "    \n",
    "print('\\r\\n Enlaces en las páginas secundarias: \\r\\n')\n",
    "    \n",
    "for x in etiqueta:\n",
    "    nueva_url = x.get('href',None)\n",
    "    print('* Accediendo a los enlaces dentro de la página: ' + nueva_url)\n",
    "    try:\n",
    "        if nueva_url[0:4]=='http': codigo2 = urllib.request.urlopen(nueva_url)\n",
    "        else: codigo2 = urllib.request.urlopen(direccion+nueva_url)\n",
    "        bea2 = BeautifulSoup(codigo2)\n",
    "        nueva_etiqueta = bea2('a')\n",
    "        if len(nueva_etiqueta)>0:\n",
    "            print(len(nueva_etiqueta),' enlaces:')\n",
    "            for y in nueva_etiqueta:\n",
    "                print(y.get('href'))\n",
    "        else: print('No tiene más enlaces')\n",
    "    except:\n",
    "        print('No tiene más enlaces')\n",
    "        "
   ]
  },
  {
   "cell_type": "code",
   "execution_count": null,
   "metadata": {},
   "outputs": [],
   "source": []
  }
 ],
 "metadata": {
  "kernelspec": {
   "display_name": "Python 3",
   "language": "python",
   "name": "python3"
  },
  "language_info": {
   "codemirror_mode": {
    "name": "ipython",
    "version": 3
   },
   "file_extension": ".py",
   "mimetype": "text/x-python",
   "name": "python",
   "nbconvert_exporter": "python",
   "pygments_lexer": "ipython3",
   "version": "3.7.3"
  }
 },
 "nbformat": 4,
 "nbformat_minor": 2
}
