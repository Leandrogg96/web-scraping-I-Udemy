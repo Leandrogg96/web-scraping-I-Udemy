{
 "cells": [
  {
   "cell_type": "code",
   "execution_count": 7,
   "metadata": {},
   "outputs": [
    {
     "name": "stdout",
     "output_type": "stream",
     "text": [
      "Tecnicatura Superior en Gestión de Energías RenovablesTecnicatura Superior en Ciencia de Datos e Inteligencia ArtificialTecnicatura Superior en ProgramaciónTecnicatura Superior en Gestión AmbientalTecnicatura Superior en Ciencia de Datos e Inteligencia ArtificialTecnicatura Superior en Ciencia de Datos e Inteligencia ArtificialTecnicatura Superior en Ciencia de Datos e Inteligencia Artificial \n",
      "\t\t\t   Desde la Práctica Profesionalizante de la Se celebró el día mundial de la Protección de la Naturaleza, con la presentación de un libro creado colectivamente \n",
      "\t\t   por los estudiantes de la Tecnicatura Superior en Gestión Ambiental para la cátedra de Biodiversidad y Biología. \n",
      "\t\t   El libro tiene varios relatos que hablan de los animales del monte cuando sufren el daño ambiental, \n",
      "\t\t   fué presentado con un emotivo relato de los estudiantes y también estuvieron presentes los alumnos de la localidad\n",
      "\t\t   de Tintina, autoridades y profesores de otras cátedras de la carrera.      La Ministra de Educación Ciencia y Tecnología, Dra Mariela Nassif, realizó el lanzamiento de la Tecnicatura Superior en \n",
      "\t\t  Ciencia de Datos e Inteligencia Artificial en el ITSE en un trabajo en conjunto con los municipios \n",
      "\t\t  de de Fernández, Termas de Río Hondo y Monte Quemado. \n",
      "              En el lanzamiento la Ministra de Educación Ciencia y Tecnología, Dra Mariela Nassif,\n",
      "\t\t  los Intendentes de las ciudades de Termas de Río Hondo, Dr. Jorge Alejandro Mukdise; de la ciudad de Fernandez,\n",
      "\t\t  Dr. Victor Rodolfo Araujo; y de la ciudad de Monte Quemado, Ing. Esteban Felipe Cisneros, junto con el Director del ITSE,\n",
      "\t\t  Ing. Mario Ramon Benavente, el Secretario de Ciencia y Tecnología,Ing. Adrian Suarez, y el representante del ITSE,\n",
      "\t\t  Lic.Gastón Segura.\n",
      "\t         Agradecemos la presencia de la Ministra de Educación Mariela Nassif, \n",
      "             \t\t\t\t\n",
      "\t\t\t\t\t\t\t\tempresarios del Software: Pablo Fiuza presidente del CESSI, Esteban Fares presidente de CATESE,\n",
      "\t\t\t\t\t\t\t\tFrancisco Battan CEO de AutoScraping, Juan Morales gerente de sistemas del CIID, \n",
      "\t\t\t\t\t\t\t\tMatias Yocca experto en programador. Felicitamos a los estudiantes por el nivel de trabajos presentados!.\n",
      "\t      \n",
      "\t\t                         Con la presencia de autoridades, alumnos y familiares, el 27 de diciembre se realizó el acto de colación de egresados de la primera y segunda cohorte de la Tecnicatura Superior \n",
      "\t\t\t\t\t\t\t\ten Programación. Felicitamos a los nuevos programadores!. \n",
      "\t\t\t\t\t\t\t\t<i class=\"bi-calendar4 custom-icon me-1\"></i>  \n"
     ]
    }
   ],
   "source": [
    "import urllib\n",
    "from bs4 import BeautifulSoup\n",
    "\n",
    "# Variable que almacena la direccion de la pagina que queremos tratar\n",
    "direccion = 'https://itse.gob.ar/view/i1.php#oferta'\n",
    "codigo = urllib.request.urlopen(direccion)\n",
    "bea = BeautifulSoup(codigo)\n",
    "\n",
    "# Definimos la etiqueta de interes: 'p'\n",
    "p = bea('p') \n",
    "\n",
    "texto = '' \n",
    "for x in p:\n",
    "    if (len(x.attrs)) == 0: \n",
    "        a= x.contents[0] \n",
    "        texto = str(texto) +  str(a)\n",
    "\n",
    "print(texto)"
   ]
  },
  {
   "cell_type": "code",
   "execution_count": null,
   "metadata": {},
   "outputs": [],
   "source": []
  }
 ],
 "metadata": {
  "kernelspec": {
   "display_name": "Python 3 (ipykernel)",
   "language": "python",
   "name": "python3"
  },
  "language_info": {
   "codemirror_mode": {
    "name": "ipython",
    "version": 3
   },
   "file_extension": ".py",
   "mimetype": "text/x-python",
   "name": "python",
   "nbconvert_exporter": "python",
   "pygments_lexer": "ipython3",
   "version": "3.12.4"
  }
 },
 "nbformat": 4,
 "nbformat_minor": 4
}
